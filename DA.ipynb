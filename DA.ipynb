{
 "cells": [
  {
   "cell_type": "code",
   "execution_count": 1,
   "metadata": {
    "collapsed": false
   },
   "outputs": [],
   "source": [
    "import pandas  as pd\n",
    "import matplotlib.mlab as mlab\n",
    "import matplotlib.pyplot as plt\n",
    "import numpy as np\n",
    "import math\n",
    "from statsmodels.tsa.stattools import acf, pacf\n",
    "import statsmodels.tsa.stattools as ts\n",
    "from statsmodels.tsa.arima_model import ARIMA\n"
   ]
  },
  {
   "cell_type": "code",
   "execution_count": 11,
   "metadata": {
    "collapsed": false
   },
   "outputs": [],
   "source": [
    "df= pd.read_excel(\"typea.xlsx\")\n",
    "price = df[\"Monthly Consumption of Type A Medicine\"][:-2]\n",
    "lnprice = np.log(price)\n",
    "plt.plot(price)\n",
    "plt.show()"
   ]
  },
  {
   "cell_type": "code",
   "execution_count": 12,
   "metadata": {
    "collapsed": false
   },
   "outputs": [
    {
     "name": "stderr",
     "output_type": "stream",
     "text": [
      "G:\\Anaconda3\\lib\\site-packages\\statsmodels\\regression\\linear_model.py:1283: RuntimeWarning: invalid value encountered in sqrt\n",
      "  return rho, np.sqrt(sigmasq)\n",
      "G:\\Anaconda3\\lib\\site-packages\\statsmodels\\regression\\linear_model.py:1275: RuntimeWarning: invalid value encountered in double_scalars\n",
      "  r[k] = (X[0:-k] * X[k:]).sum() / denom(k)\n"
     ]
    },
    {
     "data": {
      "text/plain": [
       "(-2.9865149161338365,\n",
       " 0.036173072744222996,\n",
       " 1,\n",
       " 34,\n",
       " {'1%': -3.639224104416853,\n",
       "  '10%': -2.614446989619377,\n",
       "  '5%': -2.9512301791166293},\n",
       " -37.56004634645299)"
      ]
     },
     "execution_count": 12,
     "metadata": {},
     "output_type": "execute_result"
    }
   ],
   "source": [
    "acf_1 =  acf(lnprice)[1:20]\n",
    "plt.plot(acf_1)\n",
    "plt.show()\n",
    "test_df = pandas.DataFrame([acf_1]).T\n",
    "test_df.columns = ['Pandas Autocorrelation']\n",
    "test_df.index += 1\n",
    "test_df.plot(kind='bar')\n",
    "pacf_1 =  pacf(lnprice)[1:20]\n",
    "plt.plot(pacf_1)\n",
    "plt.show()\n",
    "test_df = pandas.DataFrame([pacf_1]).T\n",
    "test_df.columns = ['Pandas Partial Autocorrelation']\n",
    "test_df.index += 1\n",
    "test_df.plot(kind='bar')\n",
    "result = ts.adfuller(lnprice, 1)\n",
    "result"
   ]
  },
  {
   "cell_type": "code",
   "execution_count": 13,
   "metadata": {
    "collapsed": false
   },
   "outputs": [
    {
     "name": "stderr",
     "output_type": "stream",
     "text": [
      "G:\\Anaconda3\\lib\\site-packages\\statsmodels\\regression\\linear_model.py:1283: RuntimeWarning: invalid value encountered in sqrt\n",
      "  return rho, np.sqrt(sigmasq)\n",
      "G:\\Anaconda3\\lib\\site-packages\\statsmodels\\regression\\linear_model.py:1275: RuntimeWarning: invalid value encountered in double_scalars\n",
      "  r[k] = (X[0:-k] * X[k:]).sum() / denom(k)\n"
     ]
    }
   ],
   "source": [
    "lnprice_diff=lnprice-lnprice.shift()\n",
    "diff=lnprice_diff.dropna()\n",
    "acf_1_diff =  acf(diff)[1:20]\n",
    "test_df = pandas.DataFrame([acf_1_diff]).T\n",
    "test_df.columns = ['First Difference Autocorrelation']\n",
    "test_df.index += 1\n",
    "test_df.plot(kind='bar')\n",
    "pacf_1_diff =  pacf(diff)[1:20]\n",
    "plt.plot(pacf_1_diff)\n",
    "plt.show()\n"
   ]
  },
  {
   "cell_type": "code",
   "execution_count": 35,
   "metadata": {
    "collapsed": false
   },
   "outputs": [
    {
     "name": "stdout",
     "output_type": "stream",
     "text": [
      "                             ARIMA Model Results                              \n",
      "==============================================================================\n",
      "Dep. Variable:                    D.y   No. Observations:                   35\n",
      "Model:                 ARIMA(0, 1, 3)   Log Likelihood                  18.290\n",
      "Method:                       css-mle   S.D. of innovations              0.143\n",
      "Date:                Fri, 07 Sep 2018   AIC                            -26.581\n",
      "Time:                        09:53:56   BIC                            -18.804\n",
      "Sample:                             1   HQIC                           -23.896\n",
      "                                                                              \n",
      "==============================================================================\n",
      "                 coef    std err          z      P>|z|      [0.025      0.975]\n",
      "------------------------------------------------------------------------------\n",
      "const          0.0076      0.037      0.207      0.837      -0.065       0.080\n",
      "ma.L1.D.y      0.1127      0.177      0.636      0.530      -0.235       0.460\n",
      "ma.L2.D.y      0.1681      0.145      1.159      0.255      -0.116       0.452\n",
      "ma.L3.D.y      0.2790      0.195      1.433      0.162      -0.103       0.661\n",
      "                                    Roots                                    \n",
      "=============================================================================\n",
      "                  Real          Imaginary           Modulus         Frequency\n",
      "-----------------------------------------------------------------------------\n",
      "MA.1            0.5288           -1.3711j            1.4695           -0.1914\n",
      "MA.2            0.5288           +1.3711j            1.4695            0.1914\n",
      "MA.3           -1.6599           -0.0000j            1.6599           -0.5000\n",
      "-----------------------------------------------------------------------------\n"
     ]
    },
    {
     "name": "stderr",
     "output_type": "stream",
     "text": [
      "G:\\Anaconda3\\lib\\site-packages\\ipykernel\\__main__.py:1: FutureWarning: Method .as_matrix will be removed in a future version. Use .values instead.\n",
      "  if __name__ == '__main__':\n"
     ]
    }
   ],
   "source": [
    "price_matrix=lnprice.as_matrix()\n",
    "model = ARIMA(price_matrix, order=(0,1,3))\n",
    "model_fit = model.fit(disp=0)\n",
    "print(model_fit.summary())"
   ]
  },
  {
   "cell_type": "code",
   "execution_count": 36,
   "metadata": {
    "collapsed": false
   },
   "outputs": [
    {
     "data": {
      "text/plain": [
       "array([1947.46332036, 1869.53157118, 1803.00430632, 1816.81066561])"
      ]
     },
     "execution_count": 36,
     "metadata": {},
     "output_type": "execute_result"
    }
   ],
   "source": [
    "predictions=model_fit.predict(36, 39, typ='levels')\n",
    "predictions\n",
    "predictionsadjusted=np.exp(predictions)\n",
    "predictionsadjusted\n"
   ]
  },
  {
   "cell_type": "code",
   "execution_count": 2,
   "metadata": {
    "collapsed": false
   },
   "outputs": [],
   "source": [
    "\n",
    "\n",
    "df= pd.read_excel(\"typea.xlsx\")\n",
    "df = df[:-2]\n",
    "df[\"date_time\"] = pd.Series(np.random.randn(36), index=df.index)\n",
    "df[\"date_time\"] = df[\"Year\"].map(str) +\"-\"+ df[\"Month\"] + \"-01\"\n",
    "df.index = pd.to_datetime(df[\"date_time\"])\n",
    "df.index\n",
    "price = df[\"Monthly Consumption of Type A Medicine\"]\n",
    "price.index = df.index\n",
    "\n",
    "\n",
    "from statsmodels.tsa.seasonal import seasonal_decompose\n",
    "result = seasonal_decompose(price, model='multiplicative')\n",
    "result\n",
    "result.plot()\n",
    "plt.show()"
   ]
  },
  {
   "cell_type": "code",
   "execution_count": 4,
   "metadata": {
    "collapsed": false
   },
   "outputs": [
    {
     "name": "stdout",
     "output_type": "stream",
     "text": [
      "Fit ARIMA: order=(1, 1, 1) seasonal_order=(0, 1, 1, 12); AIC=nan, BIC=nan, Fit time=nan seconds\n",
      "Fit ARIMA: order=(0, 1, 0) seasonal_order=(0, 1, 0, 12); AIC=315.727, BIC=317.998, Fit time=0.016 seconds\n",
      "Fit ARIMA: order=(1, 1, 0) seasonal_order=(1, 1, 0, 12); AIC=314.599, BIC=319.141, Fit time=0.172 seconds\n",
      "Fit ARIMA: order=(0, 1, 1) seasonal_order=(0, 1, 1, 12); AIC=nan, BIC=nan, Fit time=nan seconds\n",
      "Fit ARIMA: order=(1, 1, 0) seasonal_order=(0, 1, 0, 12); AIC=314.443, BIC=317.849, Fit time=0.078 seconds\n",
      "Fit ARIMA: order=(1, 1, 0) seasonal_order=(0, 1, 1, 12); AIC=nan, BIC=nan, Fit time=nan seconds\n",
      "Fit ARIMA: order=(1, 1, 0) seasonal_order=(1, 1, 1, 12); AIC=nan, BIC=nan, Fit time=nan seconds\n",
      "Fit ARIMA: order=(2, 1, 0) seasonal_order=(0, 1, 0, 12); AIC=310.524, BIC=315.066, Fit time=0.162 seconds\n",
      "Fit ARIMA: order=(2, 1, 1) seasonal_order=(0, 1, 0, 12); AIC=302.703, BIC=308.380, Fit time=0.298 seconds\n",
      "Fit ARIMA: order=(3, 1, 2) seasonal_order=(0, 1, 0, 12); AIC=303.631, BIC=311.579, Fit time=0.422 seconds\n",
      "Fit ARIMA: order=(2, 1, 1) seasonal_order=(1, 1, 0, 12); AIC=301.975, BIC=308.788, Fit time=0.343 seconds\n",
      "Fit ARIMA: order=(2, 1, 1) seasonal_order=(1, 1, 1, 12); AIC=nan, BIC=nan, Fit time=nan seconds\n",
      "Fit ARIMA: order=(2, 1, 1) seasonal_order=(2, 1, 1, 12); AIC=nan, BIC=nan, Fit time=nan seconds\n",
      "Fit ARIMA: order=(1, 1, 1) seasonal_order=(1, 1, 0, 12); AIC=nan, BIC=nan, Fit time=nan seconds\n",
      "Fit ARIMA: order=(3, 1, 1) seasonal_order=(1, 1, 0, 12); AIC=303.711, BIC=311.659, Fit time=0.464 seconds\n",
      "Fit ARIMA: order=(2, 1, 0) seasonal_order=(1, 1, 0, 12); AIC=308.199, BIC=313.876, Fit time=0.328 seconds\n",
      "Fit ARIMA: order=(2, 1, 2) seasonal_order=(1, 1, 0, 12); AIC=301.513, BIC=309.461, Fit time=0.444 seconds\n",
      "Fit ARIMA: order=(3, 1, 3) seasonal_order=(1, 1, 0, 12); AIC=308.940, BIC=319.160, Fit time=0.801 seconds\n",
      "Fit ARIMA: order=(2, 1, 2) seasonal_order=(0, 1, 0, 12); AIC=302.252, BIC=309.065, Fit time=0.199 seconds\n",
      "Fit ARIMA: order=(2, 1, 2) seasonal_order=(2, 1, 0, 12); AIC=nan, BIC=nan, Fit time=nan seconds\n",
      "Fit ARIMA: order=(2, 1, 2) seasonal_order=(1, 1, 1, 12); AIC=nan, BIC=nan, Fit time=nan seconds\n",
      "Fit ARIMA: order=(2, 1, 2) seasonal_order=(2, 1, 1, 12); AIC=nan, BIC=nan, Fit time=nan seconds\n",
      "Fit ARIMA: order=(1, 1, 2) seasonal_order=(1, 1, 0, 12); AIC=nan, BIC=nan, Fit time=nan seconds\n",
      "Fit ARIMA: order=(3, 1, 2) seasonal_order=(1, 1, 0, 12); AIC=302.871, BIC=311.955, Fit time=0.693 seconds\n",
      "Fit ARIMA: order=(2, 1, 3) seasonal_order=(1, 1, 0, 12); AIC=308.419, BIC=317.503, Fit time=0.846 seconds\n",
      "Total fit time: 5.287 seconds\n",
      "301.5125713729709\n"
     ]
    }
   ],
   "source": [
    "from pyramid.arima import auto_arima\n",
    "stepwise_model = auto_arima(price, start_p=1, start_q=1,\n",
    "                           max_p=3, max_q=3, m=12,\n",
    "                           start_P=0, seasonal=True,\n",
    "                           d=1, D=1, trace=True,\n",
    "                           error_action='ignore',  \n",
    "                           suppress_warnings=True, \n",
    "                           stepwise=True)\n",
    "print(stepwise_model.aic())"
   ]
  },
  {
   "cell_type": "code",
   "execution_count": 6,
   "metadata": {
    "collapsed": false
   },
   "outputs": [
    {
     "data": {
      "text/plain": [
       "ARIMA(callback=None, disp=0, maxiter=50, method=None, order=(2, 1, 2),\n",
       "   out_of_sample_size=0, scoring='mse', scoring_args={},\n",
       "   seasonal_order=(1, 1, 0, 12), solver='lbfgs', start_params=None,\n",
       "   suppress_warnings=True, transparams=True, trend='c')"
      ]
     },
     "execution_count": 6,
     "metadata": {},
     "output_type": "execute_result"
    }
   ],
   "source": [
    "stepwise_model.fit(price)"
   ]
  },
  {
   "cell_type": "code",
   "execution_count": 7,
   "metadata": {
    "collapsed": false
   },
   "outputs": [
    {
     "data": {
      "text/plain": [
       "array([1946.80878656, 2583.99187331, 2653.79357918, 2944.77091035,\n",
       "       3432.53699495])"
      ]
     },
     "execution_count": 7,
     "metadata": {},
     "output_type": "execute_result"
    }
   ],
   "source": [
    "future_forecast = stepwise_model.predict(n_periods=5)\n",
    "future_forecast"
   ]
  },
  {
   "cell_type": "code",
   "execution_count": 3,
   "metadata": {
    "collapsed": false
   },
   "outputs": [],
   "source": [
    "from pyramid.arima import auto_arima"
   ]
  },
  {
   "cell_type": "code",
   "execution_count": null,
   "metadata": {
    "collapsed": true
   },
   "outputs": [],
   "source": []
  }
 ],
 "metadata": {
  "anaconda-cloud": {},
  "kernelspec": {
   "display_name": "Python [Anaconda3]",
   "language": "python",
   "name": "Python [Anaconda3]"
  },
  "language_info": {
   "codemirror_mode": {
    "name": "ipython",
    "version": 3
   },
   "file_extension": ".py",
   "mimetype": "text/x-python",
   "name": "python",
   "nbconvert_exporter": "python",
   "pygments_lexer": "ipython3",
   "version": "3.5.2"
  }
 },
 "nbformat": 4,
 "nbformat_minor": 2
}
